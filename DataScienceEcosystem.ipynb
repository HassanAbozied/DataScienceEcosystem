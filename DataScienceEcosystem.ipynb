{
 "cells": [
  {
   "cell_type": "markdown",
   "id": "fc7a6381",
   "metadata": {},
   "source": [
    "### Data Science Tools and Ecosystem"
   ]
  },
  {
   "cell_type": "markdown",
   "id": "82591dee",
   "metadata": {},
   "source": [
    "#### In this notebook, Data Science Tools and Ecosystem are summerized "
   ]
  },
  {
   "cell_type": "markdown",
   "id": "6cfe5a72",
   "metadata": {},
   "source": [
    "### Objectivies \n",
    "\n",
    "#### . The most popular languages are R , python and SQL \n",
    "\n",
    "#### . The most popular tools are Jupyter notebook and R studio \n",
    "\n",
    "#### . libraries for data science are pandas , numpy , tanserflow for deeplearning               and more "
   ]
  },
  {
   "cell_type": "markdown",
   "id": "55bfb208",
   "metadata": {},
   "source": [
    "#### Some of popular languages that Data Scientists use are:\n",
    "  \n",
    " #### (python, R, SQL)"
   ]
  },
  {
   "cell_type": "markdown",
   "id": "db24e43e",
   "metadata": {},
   "source": [
    "#### Some of the commonly used libraries used by Data Scientists include:\n",
    "   ####    pandas , numpy, seaborn, scikit-learn in python and ggplot2 , dplyr, caret                   in R and DBI , SQLAlchemy inSQL "
   ]
  },
  {
   "cell_type": "markdown",
   "id": "7c5522fb",
   "metadata": {},
   "source": [
    "|Data Science Tools|\n",
    "|-------------------|\n",
    "|Jupyter Notebooks|\n",
    "|Amazon Web Services (AWS)|\n",
    "| GitLab|"
   ]
  },
  {
   "cell_type": "markdown",
   "id": "38632ef3",
   "metadata": {},
   "source": [
    "### Below are a few examples of evaluating arithmetic expressions in Python."
   ]
  },
  {
   "cell_type": "code",
   "execution_count": 1,
   "id": "43760422",
   "metadata": {},
   "outputs": [
    {
     "name": "stdout",
     "output_type": "stream",
     "text": [
      "17\n"
     ]
    }
   ],
   "source": [
    "print((3*4)+5)"
   ]
  },
  {
   "cell_type": "code",
   "execution_count": 2,
   "id": "278368bc",
   "metadata": {},
   "outputs": [
    {
     "name": "stdout",
     "output_type": "stream",
     "text": [
      "3.3333333333333335\n"
     ]
    }
   ],
   "source": [
    "print(200/60)"
   ]
  },
  {
   "cell_type": "markdown",
   "id": "ec68ee28",
   "metadata": {},
   "source": [
    "## Hassan Abozaid "
   ]
  },
  {
   "cell_type": "code",
   "execution_count": null,
   "id": "27d8941c",
   "metadata": {},
   "outputs": [],
   "source": []
  }
 ],
 "metadata": {
  "kernelspec": {
   "display_name": "Python 3 (ipykernel)",
   "language": "python",
   "name": "python3"
  },
  "language_info": {
   "codemirror_mode": {
    "name": "ipython",
    "version": 3
   },
   "file_extension": ".py",
   "mimetype": "text/x-python",
   "name": "python",
   "nbconvert_exporter": "python",
   "pygments_lexer": "ipython3",
   "version": "3.9.13"
  }
 },
 "nbformat": 4,
 "nbformat_minor": 5
}
